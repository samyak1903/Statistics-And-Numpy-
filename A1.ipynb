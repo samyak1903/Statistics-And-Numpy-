{
 "cells": [
  {
   "cell_type": "markdown",
   "metadata": {},
   "source": [
    "# Q.1 - Create a numpy array with 10 elements of the shape(10,1) using np.random and find out the mean of the elements using basic numpy functions."
   ]
  },
  {
   "cell_type": "code",
   "execution_count": 1,
   "metadata": {
    "collapsed": false
   },
   "outputs": [
    {
     "name": "stdout",
     "output_type": "stream",
     "text": [
      "[[0.76829331]\n",
      " [0.81108332]\n",
      " [0.96299839]\n",
      " [0.58796952]\n",
      " [0.52394237]\n",
      " [0.53899173]\n",
      " [0.44000635]\n",
      " [0.83558478]\n",
      " [0.10033508]\n",
      " [0.33436898]]\n",
      "Mean= 0.5903573833047491\n"
     ]
    }
   ],
   "source": [
    "import numpy as np\n",
    "x=np.random.random((10,1))\n",
    "print(x)\n",
    "print(\"Mean=\",np.mean(x))"
   ]
  },
  {
   "cell_type": "markdown",
   "metadata": {
    "collapsed": true
   },
   "source": [
    "# Q.2 - Create a numpy array with 20 elements of the shape(20,1) using np.random find the variance and standard deviation of the elements."
   ]
  },
  {
   "cell_type": "code",
   "execution_count": 6,
   "metadata": {
    "collapsed": false
   },
   "outputs": [
    {
     "name": "stdout",
     "output_type": "stream",
     "text": [
      "[[0.81486898]\n",
      " [0.82888071]\n",
      " [0.47607539]\n",
      " [0.45073361]\n",
      " [0.47869211]\n",
      " [0.12706275]\n",
      " [0.95339766]\n",
      " [0.30132508]\n",
      " [0.87010368]\n",
      " [0.32449657]\n",
      " [0.50594502]\n",
      " [0.32889242]\n",
      " [0.71638492]\n",
      " [0.43224682]\n",
      " [0.27684561]\n",
      " [0.88419633]\n",
      " [0.97817195]\n",
      " [0.34859179]\n",
      " [0.46595855]\n",
      " [0.15834791]]\n",
      "Standard Deviation=0.2630818299637853, Variance=0.06921204925709405\n"
     ]
    }
   ],
   "source": [
    "import numpy as np\n",
    "x=np.random.random((20,1))\n",
    "print(x)\n",
    "sd=np.std(x)\n",
    "variance=sd**2\n",
    "print(\"Standard Deviation={}, Variance={}\".format(sd,variance))"
   ]
  },
  {
   "cell_type": "markdown",
   "metadata": {
    "collapsed": true
   },
   "source": [
    "# Q.3 - Create a numpy array A of shape(10,20) and B of shape (20,25) using np.random. Print the matrix which is the matrix multiplication of A and B. The shape of the new matrix should be (10,25). Using basic numpy math functions only find the sum of all the elements of the new matrix."
   ]
  },
  {
   "cell_type": "code",
   "execution_count": 10,
   "metadata": {
    "collapsed": false
   },
   "outputs": [
    {
     "name": "stdout",
     "output_type": "stream",
     "text": [
      "Matrix Product=  [[4.21612524 4.19500657 4.43103302 4.66295836 4.80925241 4.54887859\n",
      "  3.76605131 4.2487263  4.92966442 4.42264252 3.83666333 4.77264876\n",
      "  4.27910631 3.65813332 4.17629299 4.99919253 4.43181141 4.09847038\n",
      "  4.10553368 5.53124061 4.18293785 4.59585913 5.59513253 4.38276341\n",
      "  5.35471679]\n",
      " [4.82381529 4.20944559 5.00084499 5.48948444 5.09581602 4.57599459\n",
      "  4.32646539 5.96204381 5.28340522 5.4038588  4.66848972 4.51212018\n",
      "  4.19267031 4.23908495 5.05175993 5.24842507 5.13953829 4.31926174\n",
      "  4.97568348 5.93079055 4.35387781 5.34649574 5.42018827 4.71745877\n",
      "  5.98942889]\n",
      " [5.18908423 4.97061541 5.1584812  5.62904483 6.03107221 4.68083796\n",
      "  5.09251168 5.55834635 5.44375583 5.45774523 3.99818618 4.83488499\n",
      "  5.08215734 4.28583184 5.21275486 5.23830114 4.74433604 4.60109527\n",
      "  4.84982939 5.95711456 5.19141872 5.04431676 6.03544136 5.05323543\n",
      "  6.23690481]\n",
      " [5.24493924 5.03203669 4.82051573 5.50146685 5.85544825 4.82814758\n",
      "  4.64525918 6.06193069 4.64607784 5.47405826 3.68661204 4.67516243\n",
      "  4.83802298 3.82616005 4.81089271 5.48348803 4.57881698 4.94515912\n",
      "  4.79774659 6.01585942 4.70051303 5.26214685 6.02776939 5.13646577\n",
      "  6.03113538]\n",
      " [5.32354657 4.62567168 4.91498748 5.32920538 6.1105712  4.20222817\n",
      "  5.12093767 5.82697285 5.18993783 5.68134498 5.18193865 4.69377807\n",
      "  4.6090147  5.29495983 5.12118865 5.39276371 4.68642743 5.18362339\n",
      "  4.71727886 6.06721724 4.78473526 4.97007317 5.89937983 5.38347995\n",
      "  6.39038649]\n",
      " [4.87089636 4.48456625 4.8742743  5.30159811 5.21544748 4.61628982\n",
      "  3.90087918 5.47925198 5.04460125 5.05802701 4.20920021 4.92155424\n",
      "  4.5767222  3.79826571 5.21437954 4.88071936 4.91945737 4.75972547\n",
      "  4.74901894 6.35216013 4.00875041 5.94417938 6.24122129 4.85094796\n",
      "  5.72188218]\n",
      " [6.18319824 5.51695232 5.30867988 5.96711144 5.99913576 5.3669966\n",
      "  5.12312289 6.31665479 6.62902343 5.80692008 5.82975108 5.1727108\n",
      "  4.81859672 4.90168652 6.3688996  6.10584756 5.8821397  5.66724026\n",
      "  5.36337953 6.88620291 4.91286614 5.69349736 6.97764639 5.61221299\n",
      "  7.21173871]\n",
      " [4.9789632  4.34253473 5.33750938 5.61711376 5.65022803 5.07753875\n",
      "  5.07420724 6.19577419 5.39619885 6.43051363 4.45170304 5.4772889\n",
      "  4.73061003 4.54338395 4.7018274  5.68318438 4.52135118 4.81149438\n",
      "  4.88896007 6.25643    5.05595688 5.13099754 6.04858833 5.18442091\n",
      "  6.44837677]\n",
      " [6.45603684 5.72286435 5.18954325 5.89725858 6.54442093 5.44981226\n",
      "  5.3851263  6.54252453 6.30500545 6.33741664 5.13936734 5.58872056\n",
      "  4.87550115 4.77747986 5.50272958 6.34362935 5.77709428 5.56007755\n",
      "  5.15965662 6.8587061  5.38540613 5.71268402 7.21060256 6.194527\n",
      "  7.21712755]\n",
      " [4.52912143 4.20971405 3.82339408 4.41297321 5.09259739 3.70810606\n",
      "  3.79976462 4.94166789 4.76470519 4.52528616 4.22689639 3.68790152\n",
      "  3.98881268 3.86124813 4.63416424 4.15698018 4.38157503 4.6177313\n",
      "  4.36216577 4.92386894 3.57690266 4.46807754 5.67847476 4.79541922\n",
      "  5.37829498]]\n",
      "Sum of elements of matrix=  1283.0426189226118\n"
     ]
    }
   ],
   "source": [
    "import numpy as np\n",
    "A=np.random.random((10,20))\n",
    "B=np.random.random((20,25))\n",
    "C=np.matmul(A,B)\n",
    "print(\"Matrix Product= \",C)\n",
    "s=np.sum(C)\n",
    "print(\"Sum of elements of matrix= \",s)"
   ]
  },
  {
   "cell_type": "markdown",
   "metadata": {},
   "source": [
    "# Q.4 - Create a numpy array A of shape(10,1).Using the basic operations of the numpy array generate an array of shape(10,1) such that each element is the following function applied on each element of A. \n",
    "\n",
    "f(x)=1 / (1 + exp(-x)) .\n",
    "\n",
    "Apply this function to each element of A and print the new array holding the value the function returns\n",
    "Example:\n",
    "\n",
    "a=[a1,a2,a3]   \n",
    "n(new array to be printed )=[ f(a1), f(a2), f(a3)]"
   ]
  },
  {
   "cell_type": "code",
   "execution_count": 13,
   "metadata": {
    "collapsed": false
   },
   "outputs": [
    {
     "name": "stdout",
     "output_type": "stream",
     "text": [
      "A=  [[0.1238327 ]\n",
      " [0.50506368]\n",
      " [0.56082247]\n",
      " [0.88110108]\n",
      " [0.98089094]\n",
      " [0.17160908]\n",
      " [0.24975502]\n",
      " [0.17190359]\n",
      " [0.51680417]\n",
      " [0.74904907]]\n",
      "Result=  [[0.53091867]\n",
      " [0.62364857]\n",
      " [0.63664282]\n",
      " [0.70705034]\n",
      " [0.72728496]\n",
      " [0.54279729]\n",
      " [0.5621162 ]\n",
      " [0.54287038]\n",
      " [0.62640017]\n",
      " [0.67897146]]\n"
     ]
    }
   ],
   "source": [
    "import numpy as np\n",
    "A=np.random.random((10,1))\n",
    "print(\"A= \",A)\n",
    "def f(x):\n",
    "    return 1/(1+np.exp(-x))\n",
    "result=np.apply_along_axis(f,0,A)\n",
    "print(\"Result= \",result)"
   ]
  },
  {
   "cell_type": "code",
   "execution_count": null,
   "metadata": {
    "collapsed": true
   },
   "outputs": [],
   "source": []
  }
 ],
 "metadata": {
  "kernelspec": {
   "display_name": "Python 3",
   "language": "python",
   "name": "python3"
  },
  "language_info": {
   "codemirror_mode": {
    "name": "ipython",
    "version": 3
   },
   "file_extension": ".py",
   "mimetype": "text/x-python",
   "name": "python",
   "nbconvert_exporter": "python",
   "pygments_lexer": "ipython3",
   "version": "3.6.5"
  }
 },
 "nbformat": 4,
 "nbformat_minor": 0
}
